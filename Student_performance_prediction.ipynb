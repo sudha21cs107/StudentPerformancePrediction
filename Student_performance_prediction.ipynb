{
  "cells": [
    {
      "cell_type": "markdown",
      "metadata": {
        "id": "view-in-github",
        "colab_type": "text"
      },
      "source": [
        "<a href=\"https://colab.research.google.com/github/sudha21cs107/StudentPerformancePrediction/blob/main/Student_performance_prediction.ipynb\" target=\"_parent\"><img src=\"https://colab.research.google.com/assets/colab-badge.svg\" alt=\"Open In Colab\"/></a>"
      ]
    },
    {
      "cell_type": "code",
      "execution_count": null,
      "metadata": {
        "id": "iPpIQ_mgYXvG"
      },
      "outputs": [],
      "source": [
        "import numpy as np\n",
        "import pandas as pd\n",
        "import matplotlib.pyplot as plt\n",
        "from sklearn.linear_model import LinearRegression\n",
        "from sklearn.preprocessing import OneHotEncoder, StandardScaler\n",
        "from sklearn.compose import ColumnTransformer\n",
        "from sklearn.model_selection import GridSearchCV, train_test_split\n",
        "from sklearn.tree import DecisionTreeRegressor\n",
        "from sklearn.ensemble import RandomForestRegressor\n",
        "from sklearn.metrics import mean_squared_error, r2_score\n",
        "\n"
      ]
    },
    {
      "cell_type": "code",
      "execution_count": null,
      "metadata": {
        "id": "lYCY7IpwWMnx"
      },
      "outputs": [],
      "source": [
        "# Load data\n",
        "df = pd.read_csv('/StudentsPerformanceTS.csv')\n",
        "df.head(10)\n"
      ]
    },
    {
      "cell_type": "code",
      "execution_count": null,
      "metadata": {
        "id": "SIs1aciOSMh3"
      },
      "outputs": [],
      "source": [
        "# Define features and target variable\n",
        "X = df.drop(columns=['Attendance score'], axis=1)  # Replaced 'Weekend_Test_score' with 'Attendance_score'\n",
        "y = df['Test_score']\n",
        "\n",
        "# Preprocessing\n",
        "num_features = X.select_dtypes(exclude=\"object\").columns\n",
        "cat_features = X.select_dtypes(include=\"object\").columns\n",
        "\n",
        "numeric_transformer = StandardScaler()\n",
        "oh_transformer = OneHotEncoder()\n",
        "\n",
        "preprocessor = ColumnTransformer(\n",
        "    [\n",
        "        (\"OneHotEncoder\", oh_transformer, cat_features),\n",
        "        (\"StandardScaler\", numeric_transformer, num_features),\n",
        "    ]\n",
        ")\n",
        "X = preprocessor.fit_transform(X)\n",
        "\n",
        "# Split data into train and test sets\n",
        "X_train, X_test, y_train, y_test = train_test_split(X, y, test_size=0.2, random_state=42)\n",
        "\n",
        "# Model selection and hyperparameter tuning\n",
        "models = {\n",
        "    \"Linear Regression\": LinearRegression(),\n",
        "    \"Decision Tree\": DecisionTreeRegressor(),\n",
        "    \"Random Forest\": RandomForestRegressor()\n",
        "}\n",
        "\n",
        "param_grid = {\n",
        "    \"Decision Tree\": {\n",
        "        \"max_depth\": [3, 5, 7]\n",
        "    },\n",
        "    \"Random Forest\": {\n",
        "        \"n_estimators\": [50, 100, 200],\n",
        "        \"max_depth\": [3, 5, 7]\n",
        "    }\n",
        "}\n",
        "\n",
        "best_models = {}\n",
        "for name, model in models.items():\n",
        "    if name in param_grid:\n",
        "        grid_search = GridSearchCV(model, param_grid[name], cv=5, scoring='neg_mean_squared_error')\n",
        "        grid_search.fit(X_train, y_train)\n",
        "        best_models[name] = grid_search.best_estimator_\n",
        "    else:\n",
        "        model.fit(X_train, y_train)\n",
        "        best_models[name] = model\n",
        "\n",
        "def predict_scores(data, model):\n",
        "    # Preprocess the data\n",
        "    X_data = data.drop(columns=['Attendance score'], axis=1)  # Replaced 'Weekend_Test_score' with 'Attendance_score'\n",
        "    y_data = data['Test_score']\n",
        "    X_data = preprocessor.transform(X_data)\n",
        "\n",
        "    # Predict scores\n",
        "    y_pred = model.predict(X_data)\n",
        "\n",
        "    # Calculate MSE and R2 Score\n",
        "    mse = mean_squared_error(y_data, y_pred)\n",
        "    r2 = r2_score(y_data, y_pred)\n",
        "\n",
        "    # Plot bar chart for actual and predicted values\n",
        "    plt.figure(figsize=(14, 8))\n",
        "    student_ids = data.index  # Use student IDs as x-axis\n",
        "    bar_width = 0.35\n",
        "    plt.bar(student_ids - bar_width/2, y_data, bar_width, label='Actual Scores')\n",
        "    plt.bar(student_ids + bar_width/2, y_pred, bar_width, label='Predicted Scores')\n",
        "    plt.xlabel('Student ID')\n",
        "    plt.ylabel('Scores')\n",
        "    plt.title('Actual vs Predicted Test Scores for All Students')\n",
        "    plt.legend()\n",
        "    plt.tight_layout()\n",
        "    plt.show()\n",
        "\n",
        "    # Print evaluation metrics\n",
        "    print(f\"Mean Squared Error: {mse:.2f}\")\n",
        "    print(f\"R2 Score: {r2:.2f}\")\n",
        "\n",
        "while True:\n",
        "    print(\"\\nOptions:\")\n",
        "    print(\"1. Predict scores for a range of student IDs (Starting and Ending ID)\")\n",
        "    print(\"2. Predict scores for a specific student ID\")\n",
        "    print(\"3. Display the dataset\")\n",
        "    print(\"4. Display the whole performance prediction\")\n",
        "    print(\"5. Exit\")\n",
        "\n",
        "    option = input(\"Enter your choice (1, 2, 3, 4, or 5): \")\n",
        "\n",
        "    if option == '1':\n",
        "        start_id = int(input(\"Enter the starting ID: \"))\n",
        "        end_id = int(input(\"Enter the ending ID: \"))\n",
        "        selected_students = df[(df.index >= start_id) & (df.index <= end_id)]\n",
        "        print(\"\\nChoose a model for prediction:\")\n",
        "        for i, (name, model) in enumerate(best_models.items()):\n",
        "            print(f\"{i+1}. {name}\")\n",
        "        model_choice = int(input(\"Enter model choice (1, 2, or 3): \"))\n",
        "        selected_model = list(best_models.values())[model_choice - 1]\n",
        "        predict_scores(selected_students, selected_model)\n",
        "    elif option == '2':\n",
        "        student_id = int(input(\"Enter the student ID: \"))\n",
        "        selected_student = df[df.index == student_id]\n",
        "        print(\"\\nChoose a model for prediction:\")\n",
        "        for i, (name, model) in enumerate(best_models.items()):\n",
        "            print(f\"{i+1}. {name}\")\n",
        "        model_choice = int(input(\"Enter model choice (1, 2, or 3): \"))\n",
        "        selected_model = list(best_models.values())[model_choice - 1]\n",
        "        predict_scores(selected_student, selected_model)\n",
        "    elif option == '3':\n",
        "        print(df)\n",
        "    elif option == '4':\n",
        "        print(\"\\nChoose a model for prediction:\")\n",
        "        for i, (name, model) in enumerate(best_models.items()):\n",
        "            print(f\"{i+1}. {name}\")\n",
        "        model_choice = int(input(\"Enter model choice (1, 2, or 3): \"))\n",
        "        selected_model = list(best_models.values())[model_choice - 1]\n",
        "        predict_scores(df, selected_model)\n",
        "    elif option == '5':\n",
        "        print(\"Exiting...\")\n",
        "        break\n",
        "    else:\n",
        "        print(\"Invalid option. Please enter a valid option (1, 2, 3, 4, or 5).\")"
      ]
    },
    {
      "cell_type": "code",
      "execution_count": null,
      "metadata": {
        "id": "gI_djZ4RRKXT"
      },
      "outputs": [],
      "source": [
        "from google.colab import drive\n",
        "drive.mount('/content/drive')"
      ]
    }
  ],
  "metadata": {
    "colab": {
      "provenance": [],
      "include_colab_link": true
    },
    "kernelspec": {
      "display_name": "Python 3",
      "name": "python3"
    },
    "language_info": {
      "name": "python"
    }
  },
  "nbformat": 4,
  "nbformat_minor": 0
}